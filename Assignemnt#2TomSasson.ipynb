{
 "cells": [
  {
   "cell_type": "markdown",
   "metadata": {},
   "source": [
    "### SCH-MGMT 697P Business Applications of Python\n",
    "### Assignment II:  Functions \n",
    "### Due: Monday 03-18 at 12am\n",
    "Please complete these exercises to the best of your abilities.  Please include code to invoke each of your functions to demonstrate the functionality.  Write comments throughout your code to explain steps.  If you run into a persistent error, please demonstrate your efforts to resolve it; search the web for the error, see if you can get closer to figuring it out.  Document what you tried in order to fix the problem. "
   ]
  },
  {
   "cell_type": "markdown",
   "metadata": {},
   "source": [
    "#### Problem 1\n",
    "a. Write a basic function to print the statment \"I can't get enough Python!\""
   ]
  },
  {
   "cell_type": "markdown",
   "metadata": {},
   "source": [
    "b. Write a basic function that accepts a name argument and prints \"(name) can't get enough Python!\""
   ]
  },
  {
   "cell_type": "code",
   "execution_count": 2,
   "metadata": {},
   "outputs": [
    {
     "name": "stdout",
     "output_type": "stream",
     "text": [
      "I can't get enough Python!\n",
      "Tom can't get enough Python!\n"
     ]
    }
   ],
   "source": [
    "# a.\n",
    "def basic_print():\n",
    "    print(\"I can't get enough Python!\")\n",
    "    return\n",
    "basic_print()\n",
    "\n",
    "# b. \n",
    "def name_print(n):\n",
    "    print(n,\"can't get enough Python!\")\n",
    "    return\n",
    "name_print(\"Tom\")\n",
    "    \n",
    "    "
   ]
  },
  {
   "cell_type": "markdown",
   "metadata": {},
   "source": [
    "#### Problem 2\n",
    "Write a function that accepts the purchase price of a stock and a closing price and returns the percent change.  "
   ]
  },
  {
   "cell_type": "code",
   "execution_count": 3,
   "metadata": {},
   "outputs": [
    {
     "data": {
      "text/plain": [
       "270.5882352941176"
      ]
     },
     "execution_count": 3,
     "metadata": {},
     "output_type": "execute_result"
    }
   ],
   "source": [
    "def percent_change(purchase,close):\n",
    "    #If close price is greater, then close/purchase will be greater than 1\n",
    "    if(close>purchase):\n",
    "        change=(1-close/purchase)*100\n",
    "    #If close price is lower, then close/purchase will be less than 1\n",
    "    elif(purchase>close):\n",
    "        change=(close/purchase-1)*100\n",
    "    return change\n",
    "    \n",
    "    \n",
    "    \n",
    "\n",
    "\n",
    "\n",
    "# test\n",
    "purchase=3.4\n",
    "close=9.2\n",
    "percent_change(purchase, close)"
   ]
  },
  {
   "cell_type": "markdown",
   "metadata": {},
   "source": [
    "#### Problem 3\n",
    "Write a function that accepts a list of data values and returns a summary that includes the mean, standard deviation, minimum, 25th percentile, median, 75th percentile, and maximum. You will need to import the numpy library in order to calculate the percentile.  Do a little bit of research.  In your function, also include a print statement that makes the output more meaningful.  "
   ]
  },
  {
   "cell_type": "code",
   "execution_count": 2,
   "metadata": {},
   "outputs": [
    {
     "name": "stdout",
     "output_type": "stream",
     "text": [
      "The mean is 10.700000000000001\n",
      "The minimum is 4.5\n",
      "The standard deviation is 6.13713650202\n",
      "The 25th percentile is 6.2\n",
      "The median is 8.4\n",
      "The 75th percentile is 11.6\n",
      "The maxiumum is 24.3\n"
     ]
    }
   ],
   "source": [
    "import numpy\n",
    "def summary(data):\n",
    "    average = sum(data)/(len(data))\n",
    "    print(\"The mean is\", average)\n",
    "    minimum = min(data)\n",
    "    print(\"The minimum is\", minimum)\n",
    "    deviation = numpy.std(data)\n",
    "    print(\"The standard deviation is\", deviation)\n",
    "    quartile_1 = numpy.percentile(data,25)\n",
    "    print(\"The 25th percentile is\", quartile_1)\n",
    "    median = numpy.percentile(data, 50)\n",
    "    print(\"The median is\", median)\n",
    "    quartile_2 = numpy.percentile(data,75)\n",
    "    print(\"The 75th percentile is\", quartile_2)\n",
    "    maximum = max(data)\n",
    "    print(\"The maxiumum is\", maximum)\n",
    "    \n",
    "    \n",
    "\n",
    "    \n",
    "     \n",
    "    \n",
    "    \n",
    "    \n",
    "    \n",
    "    \n",
    "\n",
    "\n",
    "\n",
    "# test\n",
    "data = [4.5, 6, 7, 18, 6.2, 11.6, 24.3, 8.4, 10.3]\n",
    "summary(data)"
   ]
  },
  {
   "cell_type": "markdown",
   "metadata": {},
   "source": [
    "#### Problem 4\n",
    "Write a function that accepts a price for a restaurant bill, a sales tax, and a tip.  The function should calculate and return the amount a customer will have to pay after adding the sales tax and tip.  Make the default sales tax .0625 and the default tip .15. "
   ]
  },
  {
   "cell_type": "code",
   "execution_count": 9,
   "metadata": {},
   "outputs": [
    {
     "data": {
      "text/plain": [
       "44.25"
      ]
     },
     "execution_count": 9,
     "metadata": {},
     "output_type": "execute_result"
    }
   ],
   "source": [
    "def calculate_bill(price, tax, tip):\n",
    "    #tax = .0625\n",
    "    #tip = .15\n",
    "    bill = price*(1+tax)+price*(1+tip)\n",
    "    #Assuming tips are from subtotal\n",
    "    return bill\n",
    "\n",
    "    \n",
    "\n",
    "    \n",
    "    \n",
    "# test\n",
    "#price=20\n",
    "#calculate_bill(20)\n",
    "calculate_bill(20, .0625, .15)"
   ]
  },
  {
   "cell_type": "markdown",
   "metadata": {},
   "source": [
    "#### Problem 5\n",
    "Research local and global variables in Python.  Write a brief summary of what they are and provide a simple example to demonstrate.\n",
    "\n",
    "#### Summary\n",
    "(3-4 sentences)"
   ]
  },
  {
   "cell_type": "code",
   "execution_count": 11,
   "metadata": {},
   "outputs": [
    {
     "name": "stdout",
     "output_type": "stream",
     "text": [
      "The value of local variable is 50 and the value of global variable is 100 and dividing them we get 2.0\n"
     ]
    }
   ],
   "source": [
    "# Local variables are variables that are defined inside a function and\n",
    "# cannot be used outside that function or in any other functions.\n",
    "# Global variables are variables that are declared outside a function\n",
    "# and can be used in any function without having to be declared inside them again.\n",
    "\n",
    "# Example\n",
    "global_var = 100\n",
    "def function():\n",
    "    local_var = 50\n",
    "    divide = global_var/local_var\n",
    "    print(\"The value of local variable is\", local_var,\"and the value of global variable is\",global_var,\"and dividing them we get\",divide)\n",
    "    return\n",
    "function()\n",
    "    \n",
    "    "
   ]
  },
  {
   "cell_type": "markdown",
   "metadata": {},
   "source": [
    "#### Problem 6\n",
    "Write a function that takes in the purchase price and the current price of a certain stock.  If the stock's value has decreased by more than 10% or increased by more than 20%, return True.   Otherwise return False. "
   ]
  },
  {
   "cell_type": "code",
   "execution_count": 14,
   "metadata": {},
   "outputs": [
    {
     "data": {
      "text/plain": [
       "True"
      ]
     },
     "execution_count": 14,
     "metadata": {},
     "output_type": "execute_result"
    }
   ],
   "source": [
    "def check_price(purchase,current):\n",
    "    if(current/purchase > 1.2 or current/purchase < .9):\n",
    "        return True\n",
    "    else:\n",
    "        return False\n",
    "        \n",
    "    \n",
    "    \n",
    "    \n",
    "    \n",
    "    \n",
    "    \n",
    "\n",
    "# test\n",
    "purchase=7.5\n",
    "current=10.5\n",
    "check_price(purchase, current)"
   ]
  },
  {
   "cell_type": "markdown",
   "metadata": {},
   "source": [
    "#### Problem 7\n",
    "Break down this problems using print() statements to understand what's going on.  Then, add comments to the code to explain each step.  Make sure to look up the while() method to understand how it works. "
   ]
  },
  {
   "cell_type": "code",
   "execution_count": 16,
   "metadata": {},
   "outputs": [
    {
     "name": "stdout",
     "output_type": "stream",
     "text": [
      "Remainder is 5\n",
      "Reversed is 5\n",
      "Num is now 1234\n",
      "Remainder is 4\n",
      "Reversed is 54\n",
      "Num is now 123\n",
      "Remainder is 3\n",
      "Reversed is 543\n",
      "Num is now 12\n",
      "Remainder is 2\n",
      "Reversed is 5432\n",
      "Num is now 1\n",
      "Remainder is 1\n",
      "Reversed is 54321\n",
      "Num is now 0\n",
      "Since num is now 0 , it exits while loop\n"
     ]
    },
    {
     "data": {
      "text/plain": [
       "54321"
      ]
     },
     "execution_count": 16,
     "metadata": {},
     "output_type": "execute_result"
    }
   ],
   "source": [
    "def reverse_number(num):\n",
    "    reversed=0\n",
    "    # A while loop is a loop function that iterates if the boolean statement is true\n",
    "    while(num>0):\n",
    "        #This provides the remainder after doing num mod 10\n",
    "        remainder=num%10\n",
    "        print(\"Remainder is\",remainder)\n",
    "        reversed=reversed*10+remainder\n",
    "        print(\"Reversed is\", reversed)\n",
    "        num=num//10\n",
    "        print(\"Num is now\", num)\n",
    "    print(\"Since num is now\",num,\", it exits while loop\")\n",
    "    return reversed\n",
    "\n",
    "# test \n",
    "num=12345\n",
    "reverse_number(num)"
   ]
  },
  {
   "cell_type": "markdown",
   "metadata": {},
   "source": [
    "#### Problem 8  - *challenge*\n",
    "Write a function that accepts a positive number and formats it into a string in monetary format correctly representing the dollar and cent amounts.   For example:\n",
    "\n",
    "```\n",
    "money_format(3510000.159897)\n",
    "```\n",
    "should return\n",
    "```\n",
    "  '3,510,000.16'\n",
    "```"
   ]
  },
  {
   "cell_type": "code",
   "execution_count": 75,
   "metadata": {},
   "outputs": [
    {
     "ename": "TypeError",
     "evalue": "'list' object is not callable",
     "output_type": "error",
     "traceback": [
      "\u001b[1;31m---------------------------------------------------------------------------\u001b[0m",
      "\u001b[1;31mTypeError\u001b[0m                                 Traceback (most recent call last)",
      "\u001b[1;32m<ipython-input-75-92c636ea52b1>\u001b[0m in \u001b[0;36m<module>\u001b[1;34m()\u001b[0m\n\u001b[0;32m     18\u001b[0m \u001b[1;33m\u001b[0m\u001b[0m\n\u001b[0;32m     19\u001b[0m         \u001b[1;32mreturn\u001b[0m \u001b[0ma\u001b[0m\u001b[1;33m\u001b[0m\u001b[0m\n\u001b[1;32m---> 20\u001b[1;33m \u001b[0mmoney_format\u001b[0m\u001b[1;33m(\u001b[0m\u001b[1;36m3510000.159897\u001b[0m\u001b[1;33m)\u001b[0m\u001b[1;33m\u001b[0m\u001b[0m\n\u001b[0m",
      "\u001b[1;32m<ipython-input-75-92c636ea52b1>\u001b[0m in \u001b[0;36mmoney_format\u001b[1;34m(num)\u001b[0m\n\u001b[0;32m      6\u001b[0m         \u001b[0mnum\u001b[0m \u001b[1;33m=\u001b[0m \u001b[0mround\u001b[0m\u001b[1;33m(\u001b[0m\u001b[0mnum\u001b[0m\u001b[1;33m,\u001b[0m\u001b[1;36m2\u001b[0m\u001b[1;33m)\u001b[0m\u001b[1;33m\u001b[0m\u001b[0m\n\u001b[0;32m      7\u001b[0m         \u001b[0ma\u001b[0m \u001b[1;33m=\u001b[0m \u001b[0mstr\u001b[0m\u001b[1;33m(\u001b[0m\u001b[0mnum\u001b[0m\u001b[1;33m)\u001b[0m\u001b[1;33m\u001b[0m\u001b[0m\n\u001b[1;32m----> 8\u001b[1;33m         \u001b[0malist\u001b[0m \u001b[1;33m=\u001b[0m \u001b[0mlist\u001b[0m\u001b[1;33m(\u001b[0m\u001b[0ma\u001b[0m\u001b[1;33m)\u001b[0m\u001b[1;33m\u001b[0m\u001b[0m\n\u001b[0m\u001b[0;32m      9\u001b[0m         \u001b[0mindex1\u001b[0m \u001b[1;33m=\u001b[0m \u001b[0mlen\u001b[0m\u001b[1;33m(\u001b[0m\u001b[0malist\u001b[0m\u001b[1;33m)\u001b[0m\u001b[1;33m-\u001b[0m\u001b[1;36m1\u001b[0m\u001b[1;33m\u001b[0m\u001b[0m\n\u001b[0;32m     10\u001b[0m         \u001b[0mindex2\u001b[0m \u001b[1;33m=\u001b[0m \u001b[0mlen\u001b[0m\u001b[1;33m(\u001b[0m\u001b[0malist\u001b[0m\u001b[1;33m)\u001b[0m\u001b[1;33m-\u001b[0m\u001b[1;36m1\u001b[0m\u001b[1;33m\u001b[0m\u001b[0m\n",
      "\u001b[1;31mTypeError\u001b[0m: 'list' object is not callable"
     ]
    }
   ],
   "source": [
    "#This code ran on a data camp compiler, for some reason it's not running on this compiler\n",
    "def money_format(num):\n",
    "    if(num<1000):\n",
    "        num = round(num,2)\n",
    "        return num\n",
    "    else:\n",
    "        num = round(num,2)\n",
    "        a = str(num)\n",
    "        alist = list(a)\n",
    "        index1 = len(alist)-1\n",
    "        index2 = len(alist)-1\n",
    "        count = 5\n",
    "        for i in reversed(alist):\n",
    "            if((index2==index1-count) and index2!=0):\n",
    "                alist.insert(index2,',')\n",
    "                count = count + 3\n",
    "            index2 = index2 - 1\n",
    "        a = ''.join(alist)\n",
    "        \n",
    "        return a \n",
    "money_format(3510000.159897)"
   ]
  },
  {
   "cell_type": "markdown",
   "metadata": {},
   "source": [
    "#### Problem 9\n",
    "This problem is designed to expand our understanding of lists.  Please take a little time to research list methods in python.  Look up and demonstrate the following list methods with simple examples.  \n",
    "\n",
    "a.  Create an empty list  \n",
    "\n",
    "b.  Add an item to a list  \n",
    "\n",
    "c.  Take off the last item in a list\n",
    "\n",
    "d.   Insert an item into a list at a specific index\n",
    "\n",
    "e.  Remove an item at a specific index  \n"
   ]
  },
  {
   "cell_type": "code",
   "execution_count": 58,
   "metadata": {},
   "outputs": [
    {
     "name": "stdout",
     "output_type": "stream",
     "text": [
      "The empty list is []\n",
      "The list with one added item is [1]\n",
      "The list after removing the last item is [1, 2, 3, 4]\n",
      "The list after inserting an item at index 2 is [8, 1, 2, 3, 4]\n",
      "The list after removing an item at index 3 is [8, 1, 2, 4]\n"
     ]
    }
   ],
   "source": [
    "# a. \n",
    "empty_list = []\n",
    "print(\"The empty list is\",empty_list)\n",
    "# b. \n",
    "a = 1\n",
    "empty_list.append(a)\n",
    "print(\"The list with one added item is\",empty_list)\n",
    "\n",
    "# c. \n",
    "empty_list.append(2)\n",
    "empty_list.append(3)\n",
    "empty_list.append(4)\n",
    "empty_list.append(5)\n",
    "empty_list.remove(empty_list[-1])\n",
    "print(\"The list after removing the last item is\",empty_list)\n",
    "\n",
    "\n",
    "# d.\n",
    "index1 = 2\n",
    "empty_list.insert(index,8)\n",
    "empty_list\n",
    "print(\"The list after inserting an item at index\",index1,\"is\",empty_list)\n",
    "\n",
    "# e. \n",
    "index2 = 3\n",
    "empty_list.remove(empty_list[index2])\n",
    "empty_list\n",
    "print(\"The list after removing an item at index\",index2,\"is\",empty_list)"
   ]
  },
  {
   "cell_type": "markdown",
   "metadata": {},
   "source": [
    "#### Problem 10\n",
    "This problem is designed to expand our understanding of dictionaries (called, 'objects', in other programming languages).  Please take a little time to research dictionaries in python.  Look up and demonstrate the following properties of and methods for dictionaries.  \n",
    "\n",
    "a.  Show how to access the value for a specified key, use June for an example.  \n",
    "\n",
    "b.  Print all of the keys for the dictionary shown below\n",
    "\n",
    "c.  Print all of the values for the dictionary shown below.    \n",
    "\n",
    "d.  Demonstrate a method to find how many items are in the dictionary.  \n",
    "\n",
    "e.  Demonstrate a method to add a new key value pair to the dictionary. \n"
   ]
  },
  {
   "cell_type": "code",
   "execution_count": 73,
   "metadata": {},
   "outputs": [
    {
     "name": "stdout",
     "output_type": "stream",
     "text": [
      "The value of the key June is 30\n",
      "All the keys of the dictionary\n",
      " dict_keys(['January', 'February', 'March', 'April', 'May', 'June', 'July', 'August', 'September', 'October', 'November', 'December'])\n",
      "All the values of the dictionary\n",
      " dict_values([31, 28, 31, 30, 31, 30, 31, 31, 30, 31, 30, 31])\n",
      "The number of items in the dictionary is 12\n",
      "The dictionary with a newly added key-value pair is\n",
      " {'January': 31, 'February': 28, 'March': 31, 'April': 30, 'May': 31, 'June': 30, 'July': 31, 'August': 31, 'September': 30, 'October': 31, 'November': 30, 'December': 31, 'Thirteenth Month': 32}\n"
     ]
    }
   ],
   "source": [
    "days = {\n",
    "    'January':31, \n",
    "    'February':28, \n",
    "    'March':31, \n",
    "    'April':30,\n",
    "    'May':31, \n",
    "    'June':30, \n",
    "    'July':31, \n",
    "    'August':31,\n",
    "    'September':30, \n",
    "    'October':31, \n",
    "    'November':30, \n",
    "    'December':31\n",
    "}\n",
    "\n",
    "# a. \n",
    "a = days.get('June')\n",
    "print(\"The value of the key June is\",a)\n",
    "\n",
    "# b. \n",
    "b = days.keys()\n",
    "print(\"All the keys of the dictionary\\n\",b)\n",
    "    \n",
    "# c. \n",
    "c = days.values()\n",
    "print(\"All the values of the dictionary\\n\",c)\n",
    "\n",
    "# d.\n",
    "d = len(days)\n",
    "print(\"The number of items in the dictionary is\",d)\n",
    "\n",
    "\n",
    "# e.\n",
    "days['Thirteenth Month'] = 32\n",
    "print(\"The dictionary with a newly added key-value pair is\\n\",days)\n",
    "\n"
   ]
  },
  {
   "cell_type": "code",
   "execution_count": null,
   "metadata": {
    "collapsed": true
   },
   "outputs": [],
   "source": []
  }
 ],
 "metadata": {
  "kernelspec": {
   "display_name": "Python 3",
   "language": "python",
   "name": "python3"
  },
  "language_info": {
   "codemirror_mode": {
    "name": "ipython",
    "version": 3
   },
   "file_extension": ".py",
   "mimetype": "text/x-python",
   "name": "python",
   "nbconvert_exporter": "python",
   "pygments_lexer": "ipython3",
   "version": "3.6.3"
  }
 },
 "nbformat": 4,
 "nbformat_minor": 2
}
